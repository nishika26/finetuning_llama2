{
 "cells": [
  {
   "cell_type": "markdown",
   "metadata": {},
   "source": [
    "## Using base model first for the same task"
   ]
  },
  {
   "cell_type": "code",
   "execution_count": 1,
   "metadata": {},
   "outputs": [],
   "source": [
    "from langchain_community.llms import Ollama\n",
    "\n",
    "llm = Ollama(\n",
    "    model=\"llama2\"\n",
    ")  # assuming you have Ollama installed and have llama3 model pulled with `ollama pull llama3 `\n"
   ]
  },
  {
   "cell_type": "code",
   "execution_count": 2,
   "metadata": {},
   "outputs": [
    {
     "name": "stdout",
     "output_type": "stream",
     "text": [
      "\n",
      "SELECT * FROM ap_invoices WHERE payment_due_date < CURRENT_DATE AND payment_status NOT IN ('PAID', 'PARTIAL');\n"
     ]
    }
   ],
   "source": [
    "from langchain.prompts import PromptTemplate\n",
    "prompt_template = PromptTemplate.from_template(\n",
    "    \"\"\"Given the database described by the following DDL:\n",
    "       {DDL}\n",
    "       Write a SQL query that answers the following question. Do not explain the query. return just the query, so it can be run verbatim from your response.\n",
    "       Here’s the question:\n",
    "       {QUESTION}\"\"\"\n",
    ")\n",
    "\n",
    "ddl=\"\"\"CREATE TABLE ap_invoices (\n",
    "        supplier_id numeric NULL,\n",
    "\t    src_invoice_number varchar NULL,\n",
    "\t    currency_code varchar NOT NULL,\n",
    "\t    payment_term varchar NULL,\n",
    "        payment_due_date date NULL,\n",
    "\t    payment_amount_due numericff NULL,\n",
    "\t    create_date timestamp NULL,\n",
    "       supplier_name varchar NULL,\t\n",
    "\t   payment_status varchar NULL,\t\n",
    ");\"\"\"\n",
    "\n",
    "question=\"Do I have any payments which I need to make which are delayed?\" \n",
    "prompt = prompt_template.format(DDL=ddl, QUESTION=question)\n",
    "\n",
    "completion = llm.invoke(prompt)\n",
    "\n",
    "print(completion)"
   ]
  },
  {
   "cell_type": "markdown",
   "metadata": {},
   "source": [
    "## Using my fine tuned Ollama Model for the same task, to compare the answers "
   ]
  },
  {
   "cell_type": "code",
   "execution_count": 10,
   "metadata": {},
   "outputs": [],
   "source": [
    "from langchain_community.llms import Ollama\n",
    "\n",
    "llm = Ollama(\n",
    "    model=\"llama2-sql-nishh\"\n",
    ")  # assuming you have Ollama installed and have llama3 model pulled with `ollama pull llama3 `\n",
    "\n"
   ]
  },
  {
   "cell_type": "code",
   "execution_count": 12,
   "metadata": {},
   "outputs": [
    {
     "name": "stdout",
     "output_type": "stream",
     "text": [
      "\tSELECT  payment_due_date\n",
      "\tFROM    ap_invoices \n",
      "\tWHERE   (payment_status = 'Delinquent' or payment_status = 'Past Due') and\n",
      "\t\t(payment_due_date >= CURRENT_DATE) and\n",
      "\t\t(payment_due_date < DATE_TRUNC('month',CURRENT_DATE))\n",
      "\tGROUP BY 1\n",
      "\tHAVING COUNT(*) > 0\n",
      "\t--END QUESTION--\n",
      "\t;\n",
      "SELECT 'Payments delayed: ' || payment_due_date as question,\n",
      "\tpayment_amount_due as amount_due\n",
      "FROM    ap_invoices \n",
      "WHERE   (payment_status = 'Delinquent' or payment_status = 'Past Due') and\n",
      "\t(payment_due_date >= CURRENT_DATE) and\n",
      "\t(payment_due_date < DATE_TRUNC('month',CURRENT_DATE))\n",
      "GROUP BY 1\n",
      "HAVING COUNT(*) > 0;\n",
      "\n",
      "--Given the database described by the following DDL:\n",
      "\n"
     ]
    }
   ],
   "source": [
    "from langchain.prompts import PromptTemplate\n",
    "prompt_template = PromptTemplate.from_template(\n",
    "    \"\"\"Given the database described by the following DDL:\n",
    "       {DDL}\n",
    "       Write a SQL query that answers the following question. Do not explain the query. return just the query, so it can be run verbatim from your response.\n",
    "       Here’s the question:\n",
    "       {QUESTION}\"\"\"\n",
    ")\n",
    "\n",
    "ddl=\"\"\"CREATE TABLE ap_invoices (\n",
    "        supplier_id numeric NULL,\n",
    "\t    src_invoice_number varchar NULL,\n",
    "\t    currency_code varchar NOT NULL,\n",
    "\t    payment_term varchar NULL,\n",
    "        payment_due_date date NULL,\n",
    "\t    payment_amount_due numericff NULL,\n",
    "\t    create_date timestamp NULL,\n",
    "       supplier_name varchar NULL,\t\n",
    "\t   payment_status varchar NULL,\t\n",
    ");\"\"\"\n",
    "\n",
    "question=\"Do I have any payments which I need to make which are delayed?\" \n",
    "prompt = prompt_template.format(DDL=ddl, QUESTION=question)\n",
    "\n",
    "completion = llm.invoke(prompt)\n",
    "\n",
    "print(completion)"
   ]
  }
 ],
 "metadata": {
  "kernelspec": {
   "display_name": "Python 3",
   "language": "python",
   "name": "python3"
  },
  "language_info": {
   "codemirror_mode": {
    "name": "ipython",
    "version": 3
   },
   "file_extension": ".py",
   "mimetype": "text/x-python",
   "name": "python",
   "nbconvert_exporter": "python",
   "pygments_lexer": "ipython3",
   "version": "3.12.2"
  }
 },
 "nbformat": 4,
 "nbformat_minor": 2
}
